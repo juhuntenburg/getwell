{
 "metadata": {
  "name": ""
 },
 "nbformat": 3,
 "nbformat_minor": 0,
 "worksheets": [
  {
   "cells": [
    {
     "cell_type": "markdown",
     "metadata": {},
     "source": [
      "Would it be better to take the triggers as marker?\n",
      "Is the resting state really 9 min?"
     ]
    },
    {
     "cell_type": "markdown",
     "metadata": {},
     "source": [
      "Loading puls and resp data"
     ]
    },
    {
     "cell_type": "code",
     "collapsed": false,
     "input": [
      "cd /SCR/afni_day/data/phys"
     ],
     "language": "python",
     "metadata": {},
     "outputs": [
      {
       "output_type": "stream",
       "stream": "stdout",
       "text": [
        "/SCR/afni_day/data/phys\n"
       ]
      }
     ],
     "prompt_number": 1
    },
    {
     "cell_type": "code",
     "collapsed": false,
     "input": [
      "from glob import glob\n",
      "find_pulsfile = glob('*.puls')\n",
      "pulsfile = open(find_pulsfile[0])\n",
      "pulsdata = map(int,pulsfile.readline().split()) #splits out the spaces and converts the data to integers (map(int..))\n",
      "close(find_pulsfile[0])\n",
      "\n",
      "find_respfile = glob('*.resp')\n",
      "respfile = open(find_respfile[0])\n",
      "respdata = map(int,respfile.readline().split())\n",
      "close(find_respfile[0])"
     ],
     "language": "python",
     "metadata": {},
     "outputs": [],
     "prompt_number": 2
    },
    {
     "cell_type": "markdown",
     "metadata": {},
     "source": [
      "Delete first 4 values (they are parameters) and real time pulse detection peaks (5000)"
     ]
    },
    {
     "cell_type": "code",
     "collapsed": true,
     "input": [
      "pulsdata = pulsdata[4:]   \n",
      "respdata = respdata[4:]\n",
      "for value in pulsdata:\n",
      "    if value >= 5000:\n",
      "        pulsdata.remove(value)\n",
      "        \n",
      "for value in respdata:\n",
      "    if value >= 5000:\n",
      "        respdata.remove(value)"
     ],
     "language": "python",
     "metadata": {},
     "outputs": [],
     "prompt_number": 3
    },
    {
     "cell_type": "markdown",
     "metadata": {},
     "source": [
      "Extract MDH timing information from puls and resp file and check if they match"
     ]
    },
    {
     "cell_type": "code",
     "collapsed": true,
     "input": [
      "puls_time_string = pulsfile.readlines()[9]\n",
      "puls_time = [int(s) for s in puls_time_string.split() if s.isdigit()] #read only the digits in this line and convert them to integers\n",
      "puls_time = puls_time[0] # the command above gives a list, extract the actual integer\n",
      "\n",
      "resp_time_string = respfile.readlines()[9]\n",
      "resp_time = [int(s) for s in resp_time_string.split() if s.isdigit()]\n",
      "resp_time = resp_time[0]\n",
      "\n",
      "if puls_time == resp_time:\n",
      "    phys_time = puls_time\n",
      "else:\n",
      "    print('puls and resp time dont match!')"
     ],
     "language": "python",
     "metadata": {},
     "outputs": [],
     "prompt_number": 4
    },
    {
     "cell_type": "markdown",
     "metadata": {},
     "source": [
      "Load first dicom file and extract timing information"
     ]
    },
    {
     "cell_type": "code",
     "collapsed": true,
     "input": [
      "import dicom"
     ],
     "language": "python",
     "metadata": {},
     "outputs": [],
     "prompt_number": 5
    },
    {
     "cell_type": "code",
     "collapsed": false,
     "input": [
      "cd ../rest1"
     ],
     "language": "python",
     "metadata": {},
     "outputs": [
      {
       "output_type": "stream",
       "stream": "stdout",
       "text": [
        "/SCR/afni_day/data/rest1\n"
       ]
      }
     ],
     "prompt_number": 6
    },
    {
     "cell_type": "code",
     "collapsed": true,
     "input": [
      "find_firstepi = glob('*-0001.dcm')\n",
      "firstepi = dicom.read_file(find_firstepi[0])\n",
      "epi_time_string=firstepi.AcquisitionTime\n",
      "epi_time = (int(epi_time_string[:2])*60*60*1000)+(int(epi_time_string[2:4]) *60*1000)+(int(epi_time_string[4:6]) *1000)+(int(epi_time_string[7:9])/10);\n",
      "# converts into the time format used in the phys files(ms), in the dicom it is first 2 digits hours, then minutes, seconds and tenth of ms"
     ],
     "language": "python",
     "metadata": {},
     "outputs": [],
     "prompt_number": 7
    },
    {
     "cell_type": "markdown",
     "metadata": {},
     "source": [
      "Figure out time difference between phys and epi start and epi length"
     ]
    },
    {
     "cell_type": "code",
     "collapsed": true,
     "input": [
      "from __future__ import division # to support float division\n",
      "\n",
      "diff_time = epi_time - phys_time # these are the beginnings of the epi and phys recordings\n",
      "if diff_time <0:\n",
      "    print('phys starts after epi!')\n",
      "diff_time_dp = int(floor(diff_time/20)) #20 ms is the sampling rate of the phys files (supposedly!), this is to find out how many data points to remove\n",
      "\n",
      "epi_length = int(firstepi.RepetitionTime*len(glob('*.dcm'))) # repition time times number of volumes, gives length of epi sequence in ms\n",
      "epi_length_dp = int(floor(epi_length/20)) # convert this into datapoints of the phys file"
     ],
     "language": "python",
     "metadata": {},
     "outputs": [],
     "prompt_number": 8
    },
    {
     "cell_type": "markdown",
     "metadata": {},
     "source": [
      "Cut out relevant parts of pulse and resp data"
     ]
    },
    {
     "cell_type": "code",
     "collapsed": true,
     "input": [
      "pulsdata_matched = pulsdata[diff_time_dp:(diff_time_dp+epi_length_dp)]\n",
      "respdata_matched = respdata[diff_time_dp:(diff_time_dp+epi_length_dp)]"
     ],
     "language": "python",
     "metadata": {},
     "outputs": [],
     "prompt_number": 9
    },
    {
     "cell_type": "code",
     "collapsed": false,
     "input": [
      "plot(pulsdata[:1000])\n",
      "plot(respdata[:1000])"
     ],
     "language": "python",
     "metadata": {},
     "outputs": [
      {
       "metadata": {},
       "output_type": "pyout",
       "prompt_number": 10,
       "text": [
        "[<matplotlib.lines.Line2D at 0x2a1ee90>]"
       ]
      },
      {
       "metadata": {},
       "output_type": "display_data",
       "png": "[encoded data removed]",
       "text": [
        "<matplotlib.figure.Figure at 0x2a1e050>"
       ]
      }
     ],
     "prompt_number": 10
    },
    {
     "cell_type": "code",
     "collapsed": false,
     "input": [
      "tr_cut = 4\n",
      "tr_cut_ms = 4*2300\n",
      "tr_cut_dp = int(floor(tr_cut_ms/20))\n",
      "pulsdata_tr_cut = pulsdata_matched[tr_cut_dp:]\n",
      "respdata_tr_cut = respdata_matched[tr_cut_dp:]"
     ],
     "language": "python",
     "metadata": {},
     "outputs": [],
     "prompt_number": 11
    },
    {
     "cell_type": "code",
     "collapsed": false,
     "input": [
      "cd ../../results"
     ],
     "language": "python",
     "metadata": {},
     "outputs": [
      {
       "output_type": "stream",
       "stream": "stdout",
       "text": [
        "/SCR/afni_day/results\n"
       ]
      }
     ],
     "prompt_number": 12
    },
    {
     "cell_type": "code",
     "collapsed": false,
     "input": [
      "with open('phys_card_cut.1D', 'w') as cut_puls:\n",
      "    for item in pulsdata_tr_cut:\n",
      "        cut_puls.write(\"%d\\n\" % item)\n",
      "    \n",
      "with open('phys_resp_cut.1D', 'w') as cut_resp:\n",
      "    for item in respdata_tr_cut:\n",
      "        cut_resp.write(\"%d\\n\" % item)"
     ],
     "language": "python",
     "metadata": {},
     "outputs": [],
     "prompt_number": 13
    },
    {
     "cell_type": "code",
     "collapsed": false,
     "input": [],
     "language": "python",
     "metadata": {},
     "outputs": [],
     "prompt_number": 13
    },
    {
     "cell_type": "code",
     "collapsed": false,
     "input": [],
     "language": "python",
     "metadata": {},
     "outputs": []
    }
   ],
   "metadata": {}
  }
 ]
}