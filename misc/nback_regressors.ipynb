{
 "metadata": {
  "name": "",
  "signature": "sha256:f7e7b185a9af262d3b06250bf9fc6df9f0ab5420ddcf7850abc3e99a33883d89"
 },
 "nbformat": 3,
 "nbformat_minor": 0,
 "worksheets": [
  {
   "cells": [
    {
     "cell_type": "heading",
     "level": 2,
     "metadata": {},
     "source": [
      "nback regressors"
     ]
    },
    {
     "cell_type": "heading",
     "level": 4,
     "metadata": {},
     "source": [
      "#### variables to be set ####\n"
     ]
    },
    {
     "cell_type": "code",
     "collapsed": false,
     "input": [
      "subject_id = '107' #getwell id\n",
      "data_dir = '/home/getwell/data/raw/log_phys/' # path to subjects logfile \n",
      "block_dir = '/home/getwell/data/nback/' # path to xls files with block information\n",
      "output_dir = '/home/getwell/data/nback/results/' # path to subjects nback analysis"
     ],
     "language": "python",
     "metadata": {},
     "outputs": [],
     "prompt_number": 1
    },
    {
     "cell_type": "heading",
     "level": 4,
     "metadata": {},
     "source": [
      "libraries"
     ]
    },
    {
     "cell_type": "code",
     "collapsed": false,
     "input": [
      "import pandas as pd\n",
      "import numpy as np\n",
      "from glob import glob as glob\n",
      "import os"
     ],
     "language": "python",
     "metadata": {},
     "outputs": [],
     "prompt_number": 2
    },
    {
     "cell_type": "code",
     "collapsed": false,
     "input": [
      "os.makedirs(output_dir+subject_id+'/pre')\n",
      "os.makedirs(output_dir+subject_id+'/post')"
     ],
     "language": "python",
     "metadata": {},
     "outputs": [],
     "prompt_number": 3
    },
    {
     "cell_type": "heading",
     "level": 4,
     "metadata": {},
     "source": [
      "create fix and word (emo and diff valences) regressors for each session and save to txt file"
     ]
    },
    {
     "cell_type": "code",
     "collapsed": false,
     "input": [
      "for session in ['pre','post']:\n",
      "    # read in  logfile and block information\n",
      "    if session == 'pre':\n",
      "        logpath=glob(data_dir+subject_id+'a*/log/*-Emo_N_Back.log')[0]\n",
      "        log=pd.read_csv(logpath, delimiter='\\t',header=0, skiprows=[0,1,2,4])\n",
      "        blocks=pd.read_excel(block_dir+'pre_blocks.xls', 'Tabelle1')\n",
      "        outpath=output_dir+subject_id+'/pre/pre_'+subject_id\n",
      "    elif session =='post':\n",
      "        logpath=glob(data_dir+subject_id+'b*/log/*-Emo_N_Back.log')[0]\n",
      "        log=pd.read_csv(logpath, delimiter='\\t',header=0, skiprows=[0,1,2,4])\n",
      "        blocks=pd.read_excel(block_dir+'post_blocks.xls','Tabelle1')\n",
      "        outpath=output_dir+subject_id+'/post/post_'+subject_id\n",
      "    \n",
      "    # build dataframe with only code and time rows and only start, wordI, break, + events\n",
      "    df=log.iloc[:,[3,4]]\n",
      "    event=df[(df['Code']=='Start')|(df['Code']=='WORDI')|(df['Code']=='BREAK')|(df['Code']=='+')]\n",
      "    first_pulse=df[df['Code']=='255'].iloc[0]['Time']\n",
      "    \n",
      "    \n",
      "    #### build regressors ####\n",
      "    # first fix: 2nd 'start' to 1st 'wordI'\n",
      "    fix=[[event.iloc[1,1],event.iloc[2,1]]]\n",
      "    \n",
      "    # first emo word block: 1st 'wordI' to 1st 'break'(placeholder)\n",
      "    emo=[[event.iloc[2,1],np.nan]]\n",
      "    \n",
      "    # other blocks, fix: 'break' to 'wordI', emo: 'wordI' to 'break'\n",
      "    for i in range(event.shape[0]):\n",
      "        if event.iloc[i]['Code']=='BREAK':\n",
      "           fix.append([event.iloc[i]['Time'],event.iloc[i+1]['Time']])\n",
      "           emo[-1][1]=event.iloc[i]['Time']\n",
      "           emo.append([event.iloc[i+1]['Time'],np.nan])\n",
      "        elif event.iloc[i]['Code']=='+':\n",
      "            emo[-1][1]=event.iloc[i]['Time']\n",
      "    \n",
      "    # create dataframes, reset time to first pulse onset, divide by 10000to get s\n",
      "    emo=pd.DataFrame((emo-first_pulse)/10000, columns=['start','end'])\n",
      "    fix=pd.DataFrame((fix-first_pulse)/10000, columns=['start','end'])\n",
      "    \n",
      "    # check if all values are there\n",
      "    if emo.shape!=(15,2):\n",
      "        print session+': emo df out of shape'\n",
      "    if fix.shape!=(15,2):\n",
      "        print session+': fix df out of shape'\n",
      "    if np.isnan(emo['start']).max()|np.isnan(emo['end']).max():\n",
      "        print session+': emo contains nan'\n",
      "    if np.isnan(fix['start']).max()|np.isnan(fix['end']).max():\n",
      "        print session+': fix contains nan'\n",
      "    \n",
      "    # append column for actual duration of each event, drop end column\n",
      "    emo['duration']=emo.end-emo.start\n",
      "    emo=emo.drop('end',1)\n",
      "    fix['duration']=fix.end-fix.start\n",
      "    fix=fix.drop('end',1)\n",
      "    \n",
      "    # get set values for block durations and compare to actual durations\n",
      "    emo_dur=blocks[blocks['condition']!='fix'].iloc[:,[3]]\n",
      "    emo_dur['']=range(15)\n",
      "    emo_dur=emo_dur.set_index('')\n",
      "    if (emo-emo_dur)['duration'].max()>1000:\n",
      "        print session+': timing emo blocks differs too much from set value'\n",
      "    \n",
      "    fix_dur = blocks[blocks['condition']=='fix'].iloc[:,[3]]\n",
      "    fix_dur['']=range(15)\n",
      "    fix_dur=fix_dur.set_index('')\n",
      "    if (fix-fix_dur)['duration'].max()>100:\n",
      "        print session+': timing fix blocks differs too much from set value'\n",
      "    \n",
      "    #get valence information and create single regressors\n",
      "    emo_val=blocks[blocks['condition']!='fix'].iloc[:,[0]]\n",
      "    emo_val['']=range(15)\n",
      "    emo_val=emo_val.set_index('')\n",
      "    emo['valence']=emo_val\n",
      "    emo['modulation']=1\n",
      "    fix['modulation']=1\n",
      "    pos=emo[emo['valence']=='pos'].drop(['valence'],1)\n",
      "    neu=emo[emo['valence']=='neu'].drop(['valence'],1)\n",
      "    neg=emo[emo['valence']=='neg'].drop(['valence'],1)\n",
      "    emo=emo.drop(['valence'],1)\n",
      "    \n",
      "    # append modulation column\n",
      "    fix['modulation']=1\n",
      "    emo['modulation']=1\n",
      "    \n",
      "    #save regressors to file\n",
      "    fix.to_csv(outpath+'_fix.txt', header=False, index=False, sep='\\t')\n",
      "    emo.to_csv(outpath+'_emo.txt', header=False, index=False, sep='\\t')\n",
      "    neg.to_csv(outpath+'_neg.txt', header=False, index=False, sep='\\t')\n",
      "    neu.to_csv(outpath+'_neu.txt', header=False, index=False, sep='\\t')\n",
      "    pos.to_csv(outpath+'_pos.txt', header=False, index=False, sep='\\t')"
     ],
     "language": "python",
     "metadata": {},
     "outputs": [],
     "prompt_number": 6
    },
    {
     "cell_type": "code",
     "collapsed": false,
     "input": [],
     "language": "python",
     "metadata": {},
     "outputs": []
    }
   ],
   "metadata": {}
  }
 ]
}