{
 "metadata": {
  "name": "",
  "signature": "sha256:e5b5f08c9d33d48e2d3e7834b16c4a62504ce60f83c4fae398e8933913a61984"
 },
 "nbformat": 3,
 "nbformat_minor": 0,
 "worksheets": [
  {
   "cells": [
    {
     "cell_type": "code",
     "collapsed": false,
     "input": [
      "loe_id='loe_4117'"
     ],
     "language": "python",
     "metadata": {},
     "outputs": [],
     "prompt_number": 1
    },
    {
     "cell_type": "code",
     "collapsed": false,
     "input": [
      "path= '/home/getwell/data/raw/dicom/'+loe_id"
     ],
     "language": "python",
     "metadata": {},
     "outputs": [],
     "prompt_number": 2
    },
    {
     "cell_type": "code",
     "collapsed": false,
     "input": [
      "cd $path"
     ],
     "language": "python",
     "metadata": {},
     "outputs": [
      {
       "output_type": "stream",
       "stream": "stdout",
       "text": [
        "/home/getwell/data/raw/dicom/loe_4117\n"
       ]
      }
     ],
     "prompt_number": 3
    },
    {
     "cell_type": "code",
     "collapsed": false,
     "input": [
      "from glob import glob\n",
      "rest1 = glob('*-0002-*.dcm')\n",
      "nback = glob('*-0003-*.dcm')\n",
      "rest2 = glob('*-0004-*.dcm')\n",
      "afflab = glob('*-0005-*.dcm')\n",
      "anat = glob('*-0006-*.dcm')\n",
      "one=glob('*-0001-*.dcm')\n",
      "ninetynine=glob('*-0099-*.dcm')"
     ],
     "language": "python",
     "metadata": {},
     "outputs": [],
     "prompt_number": 4
    },
    {
     "cell_type": "code",
     "collapsed": false,
     "input": [
      "import os\n",
      "\n",
      "if len(rest1) != 257:\n",
      "        print('rest1 image number not correct')\n",
      "else:\n",
      "    os.makedirs('rest1')\n",
      "    for dicom in rest1:\n",
      "        os.rename(dicom, 'rest1/'+dicom)\n",
      "\n",
      "if len(nback) != 293:\n",
      "    print('nback image number not correct')\n",
      "else:\n",
      "    os.makedirs('nback')\n",
      "    for dicom in nback:\n",
      "        os.rename(dicom, 'nback/'+dicom)\n",
      "        \n",
      "if len(rest2) != 257:\n",
      "    print('rest2 image number not correct')\n",
      "else:\n",
      "    os.makedirs('rest2')\n",
      "    for dicom in rest2:\n",
      "        os.rename(dicom, 'rest2/'+dicom)\n",
      "        \n",
      "if len(afflab) != 287:\n",
      "    print('afflab image number not correct')\n",
      "else:\n",
      "    os.makedirs('afflab')\n",
      "    for dicom in afflab:\n",
      "        os.rename(dicom, 'afflab/'+dicom)\n",
      "        \n",
      "if len(anat) !=176:\n",
      "    print('anatomical image number not correct')\n",
      "else:\n",
      "    os.makedirs('anat')\n",
      "    for dicom in anat:\n",
      "        os.rename(dicom, 'anat/'+dicom)\n",
      "        \n",
      "os.makedirs('01')\n",
      "for dicom in one:\n",
      "    os.rename(dicom, '01/'+dicom)\n",
      "\n",
      "os.makedirs('99')\n",
      "for dicom in ninetynine:\n",
      "    os.rename(dicom, '99/'+dicom)"
     ],
     "language": "python",
     "metadata": {},
     "outputs": [],
     "prompt_number": 5
    },
    {
     "cell_type": "code",
     "collapsed": false,
     "input": [],
     "language": "python",
     "metadata": {},
     "outputs": [],
     "prompt_number": 5
    }
   ],
   "metadata": {}
  }
 ]
}